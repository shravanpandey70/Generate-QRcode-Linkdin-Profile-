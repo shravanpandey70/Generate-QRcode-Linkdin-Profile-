{
  "nbformat": 4,
  "nbformat_minor": 0,
  "metadata": {
    "colab": {
      "provenance": []
    },
    "kernelspec": {
      "name": "python3",
      "display_name": "Python 3"
    },
    "language_info": {
      "name": "python"
    }
  },
  "cells": [
    {
      "cell_type": "code",
      "execution_count": 3,
      "metadata": {
        "colab": {
          "base_uri": "https://localhost:8080/"
        },
        "id": "0hSOea6Q2nUd",
        "outputId": "90d37dce-4ebb-4630-b06a-d3d93a983b40"
      },
      "outputs": [
        {
          "output_type": "stream",
          "name": "stdout",
          "text": [
            "Looking in indexes: https://pypi.org/simple, https://us-python.pkg.dev/colab-wheels/public/simple/\n",
            "Requirement already satisfied: image in /usr/local/lib/python3.8/dist-packages (1.5.33)\n",
            "Requirement already satisfied: pillow in /usr/local/lib/python3.8/dist-packages (from image) (8.4.0)\n",
            "Requirement already satisfied: django in /usr/local/lib/python3.8/dist-packages (from image) (4.1.7)\n",
            "Requirement already satisfied: six in /usr/local/lib/python3.8/dist-packages (from image) (1.15.0)\n",
            "Requirement already satisfied: sqlparse>=0.2.2 in /usr/local/lib/python3.8/dist-packages (from django->image) (0.4.3)\n",
            "Requirement already satisfied: asgiref<4,>=3.5.2 in /usr/local/lib/python3.8/dist-packages (from django->image) (3.6.0)\n",
            "Requirement already satisfied: backports.zoneinfo in /usr/local/lib/python3.8/dist-packages (from django->image) (0.2.1)\n",
            "Looking in indexes: https://pypi.org/simple, https://us-python.pkg.dev/colab-wheels/public/simple/\n",
            "Collecting qrcode\n",
            "  Downloading qrcode-7.4.2-py3-none-any.whl (46 kB)\n",
            "\u001b[2K     \u001b[90m━━━━━━━━━━━━━━━━━━━━━━━━━━━━━━━━━━━━━━━━\u001b[0m \u001b[32m46.2/46.2 KB\u001b[0m \u001b[31m2.3 MB/s\u001b[0m eta \u001b[36m0:00:00\u001b[0m\n",
            "\u001b[?25hRequirement already satisfied: typing-extensions in /usr/local/lib/python3.8/dist-packages (from qrcode) (4.5.0)\n",
            "Collecting pypng\n",
            "  Downloading pypng-0.20220715.0-py3-none-any.whl (58 kB)\n",
            "\u001b[2K     \u001b[90m━━━━━━━━━━━━━━━━━━━━━━━━━━━━━━━━━━━━━━━━\u001b[0m \u001b[32m58.1/58.1 KB\u001b[0m \u001b[31m6.5 MB/s\u001b[0m eta \u001b[36m0:00:00\u001b[0m\n",
            "\u001b[?25hInstalling collected packages: pypng, qrcode\n",
            "Successfully installed pypng-0.20220715.0 qrcode-7.4.2\n"
          ]
        }
      ],
      "source": [
        "!pip install image\n",
        "!pip install qrcode"
      ]
    },
    {
      "cell_type": "code",
      "source": [
        "import image   # import required liabraries\n",
        "import qrcode "
      ],
      "metadata": {
        "id": "pvV8uvpO20tx"
      },
      "execution_count": 5,
      "outputs": []
    },
    {
      "cell_type": "code",
      "source": [
        "qr=qrcode.QRCode(\n",
        "    version=15,   # 15 means a version of the qr code high the number bigger the code image and complicated picture\n",
        "    box_size=2,  # box size means size of the box where qr code will display\n",
        "    border = 5    # it is the white part of image -- border in all 4 side with white colour\n",
        "    \n",
        ")"
      ],
      "metadata": {
        "id": "09urckGu3Seu"
      },
      "execution_count": 9,
      "outputs": []
    },
    {
      "cell_type": "code",
      "source": [
        "data=(\"https://www.linkedin.com/in/shravan-pandey-46b524173/?originalSubdomain=in\")\n",
        "# as i am pasting my linkdin url simillarly u can also paste any url or u want to create a qr for test than u can paste text under the data box.\n",
        "\n",
        "qr.add_data(data)\n",
        "qr.make(fit=True)\n",
        "img=qr.make_image(fill=\"black\",back_color='white')\n",
        "img.save(\"test.png\")\n"
      ],
      "metadata": {
        "id": "y9FPOU_14s8n"
      },
      "execution_count": 10,
      "outputs": []
    },
    {
      "cell_type": "code",
      "source": [],
      "metadata": {
        "id": "X0Yog6De5q4n"
      },
      "execution_count": null,
      "outputs": []
    }
  ]
}